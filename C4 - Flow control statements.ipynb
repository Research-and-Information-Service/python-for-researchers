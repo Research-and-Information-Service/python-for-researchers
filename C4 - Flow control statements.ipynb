{
 "cells": [
  {
   "cell_type": "markdown",
   "metadata": {},
   "source": [
    "# Chapter 4 - Flow control statements"
   ]
  },
  {
   "cell_type": "markdown",
   "metadata": {},
   "source": [
    "In this lesson you will learn:\n",
    "* about if, else and elif statements\n",
    "* about for loops\n",
    "* about while loops"
   ]
  },
  {
   "cell_type": "markdown",
   "metadata": {},
   "source": [
    "# Control flow"
   ]
  },
  {
   "cell_type": "markdown",
   "metadata": {},
   "source": [
    "The control flow of a programme is the order in which the code executes. It is regulated by conditional statements, loops, and function calls. There are different control structures that can be used to regulate flow.\n",
    "\n",
    "The three control structures available in python are:\n",
    "\n",
    "* Sequential statements which are the default\n",
    "* Selection statements, also known as decision control statements or branching statements, that allow a programme to test several conditions and execute instructures based on those conditions\n",
    "* and Repetition statements which are used to repeat a block of instructions. \n",
    "\n",
    "These structures are what allow users to create complex, generalised programmes that perform automated tasks."
   ]
  },
  {
   "cell_type": "markdown",
   "metadata": {},
   "source": [
    "## Sequential statements\n",
    "\n",
    "We have been using these in the previous chapters. Sequential statements are statements whose execution occurs sequentially, i.e., each line of code is executed one another another. "
   ]
  },
  {
   "cell_type": "code",
   "execution_count": 242,
   "metadata": {},
   "outputs": [
    {
     "data": {
      "text/plain": [
       "'this'"
      ]
     },
     "execution_count": 242,
     "metadata": {},
     "output_type": "execute_result"
    }
   ],
   "source": [
    "variables = ['this','is','executed', 'in', 'order']\n",
    "variables[0]"
   ]
  },
  {
   "cell_type": "code",
   "execution_count": 243,
   "metadata": {},
   "outputs": [
    {
     "data": {
      "text/plain": [
       "'is'"
      ]
     },
     "execution_count": 243,
     "metadata": {},
     "output_type": "execute_result"
    }
   ],
   "source": [
    "variables[1]"
   ]
  },
  {
   "cell_type": "code",
   "execution_count": 244,
   "metadata": {},
   "outputs": [
    {
     "data": {
      "text/plain": [
       "'executed'"
      ]
     },
     "execution_count": 244,
     "metadata": {},
     "output_type": "execute_result"
    }
   ],
   "source": [
    "variables[2]"
   ]
  },
  {
   "cell_type": "code",
   "execution_count": 245,
   "metadata": {},
   "outputs": [
    {
     "data": {
      "text/plain": [
       "'in'"
      ]
     },
     "execution_count": 245,
     "metadata": {},
     "output_type": "execute_result"
    }
   ],
   "source": [
    "variables[3]"
   ]
  },
  {
   "cell_type": "code",
   "execution_count": 246,
   "metadata": {},
   "outputs": [
    {
     "data": {
      "text/plain": [
       "'order'"
      ]
     },
     "execution_count": 246,
     "metadata": {},
     "output_type": "execute_result"
    }
   ],
   "source": [
    "variables[4]"
   ]
  },
  {
   "cell_type": "markdown",
   "metadata": {},
   "source": [
    "## Selection and decision statements"
   ]
  },
  {
   "cell_type": "markdown",
   "metadata": {},
   "source": [
    "Selection statements allow a programme to test several conditions and given the outcomes of those tests the programme will execute differently. Some examples are the 'if', 'if else', 'nested if' and 'if elif else' statements.\n",
    "\n",
    "The 'if' statement is the simplest. It checks whether a condition is true and executes if it is. "
   ]
  },
  {
   "cell_type": "markdown",
   "metadata": {},
   "source": [
    "### If statements"
   ]
  },
  {
   "cell_type": "code",
   "execution_count": 247,
   "metadata": {},
   "outputs": [
    {
     "name": "stdout",
     "output_type": "stream",
     "text": [
      "n is an even number\n"
     ]
    }
   ],
   "source": [
    "n = 30\n",
    "\n",
    "if n%2 == 0:     \n",
    "    print('n is an even number')\n",
    "    \n",
    "# Recall the 'modulo' operator given by '%'. This operator returns the remainder of a division. \n",
    "# '==' checks if two inputs are equal, e.g., a == b checks if a is equal to b. \n",
    "# '!=' checks if two inputs are not equal, e.g., a != b checks if a is not equal to b."
   ]
  },
  {
   "cell_type": "code",
   "execution_count": 248,
   "metadata": {},
   "outputs": [
    {
     "name": "stdout",
     "output_type": "stream",
     "text": [
      "n is an odd number\n"
     ]
    }
   ],
   "source": [
    "n = 31\n",
    "\n",
    "if n%2 != 0:\n",
    "    print('n is an odd number')"
   ]
  },
  {
   "cell_type": "markdown",
   "metadata": {},
   "source": [
    "### If else statements"
   ]
  },
  {
   "cell_type": "markdown",
   "metadata": {},
   "source": [
    "The 'if else' statement is slightly more complicated. It evaluates a condition and will execute the body of the if statement the test condition is True. If the statement is False however then the body of the else statement is executed."
   ]
  },
  {
   "cell_type": "code",
   "execution_count": 249,
   "metadata": {},
   "outputs": [
    {
     "name": "stdout",
     "output_type": "stream",
     "text": [
      "n is an even number\n"
     ]
    }
   ],
   "source": [
    "n = 30\n",
    "\n",
    "if n%2 == 0:     \n",
    "    print('n is an even number')\n",
    "else:\n",
    "    print('n is an odd number')"
   ]
  },
  {
   "cell_type": "code",
   "execution_count": 250,
   "metadata": {},
   "outputs": [
    {
     "name": "stdout",
     "output_type": "stream",
     "text": [
      "n is an odd number\n"
     ]
    }
   ],
   "source": [
    "n = 31\n",
    "\n",
    "if n%2 == 0:     \n",
    "    print('n is an even number')\n",
    "else:\n",
    "    print('n is an odd number')"
   ]
  },
  {
   "cell_type": "markdown",
   "metadata": {},
   "source": [
    "### Nested if statements"
   ]
  },
  {
   "cell_type": "markdown",
   "metadata": {},
   "source": [
    "'Nested if' statements are exactly what they sound like and consist of an if statement inside another if statement. "
   ]
  },
  {
   "cell_type": "code",
   "execution_count": 251,
   "metadata": {},
   "outputs": [
    {
     "name": "stdout",
     "output_type": "stream",
     "text": [
      "Peter and Paul are on the invite list\n"
     ]
    }
   ],
   "source": [
    "list_of_names = ['Peter', 'Paul', 'Simon', 'Garfunkel', 'Tommy', 'Gilbert']\n",
    "\n",
    "if 'Peter' in list_of_names:\n",
    "    if 'Paul' in list_of_names:\n",
    "        print('Peter and Paul are on the invite list')\n",
    "    else: \n",
    "        print('Only Peter is on the invite list')"
   ]
  },
  {
   "cell_type": "markdown",
   "metadata": {},
   "source": [
    "### If elif else statements"
   ]
  },
  {
   "cell_type": "markdown",
   "metadata": {},
   "source": [
    "The term 'elif' is short for 'else if' and can be used to specify alternative conditions to the condition tested by the first if statement. Else is more general and basically says \"if none of the if or elif statements are true then execute this\"."
   ]
  },
  {
   "cell_type": "code",
   "execution_count": 252,
   "metadata": {},
   "outputs": [
    {
     "name": "stdout",
     "output_type": "stream",
     "text": [
      "Peter is not on the invite list\n"
     ]
    }
   ],
   "source": [
    "list_of_names = ['Paul', 'Simon', 'Garfunkel', 'Tommy', 'Gilbert']\n",
    "\n",
    "# If statement\n",
    "if 'Peter' in list_of_names:\n",
    "    # Nested if statement\n",
    "    if 'Paul' in list_of_names:\n",
    "        print('Peter and Paul are on the invite list')\n",
    "    else: \n",
    "        print('Only Peter is on the invite list')\n",
    "# Elif statement\n",
    "elif 'Peter' not in list_of_names:\n",
    "    print('Peter is not on the invite list')"
   ]
  },
  {
   "cell_type": "markdown",
   "metadata": {},
   "source": [
    "In the example above the condition tested by the first 'if' statement is whether Peter is in the list of names. In this case, Peter is not on the list of names. The 'elif' statement checks another condition (whether Peter is not in the list of names) and the body of the elif is executed since Peter is not in the list of names."
   ]
  },
  {
   "cell_type": "code",
   "execution_count": 253,
   "metadata": {},
   "outputs": [
    {
     "name": "stdout",
     "output_type": "stream",
     "text": [
      "a is less than b, b is less than c.\n"
     ]
    }
   ],
   "source": [
    "a = 10\n",
    "\n",
    "b = 100\n",
    "\n",
    "c = 1000\n",
    "\n",
    "# If statement\n",
    "if a > b:\n",
    "    # Nested if statement\n",
    "    if a > c:\n",
    "        print(\"a is greater than both b and c\")\n",
    "    else:\n",
    "        print(\"c is greater than a which is greater than b\")\n",
    "# Elif statement\n",
    "elif b > c:\n",
    "    print(\"a is less than b and b is greater than c\")\n",
    "# Else statement\n",
    "else:\n",
    "     print(\"a is less than b, b is less than c.\")"
   ]
  },
  {
   "cell_type": "markdown",
   "metadata": {},
   "source": [
    "In the example above, there are three variables, a, b and c. The first 'if' statement tests whether a is greater than b. If this test fails it implies that a is less than b and the 'elif' statement tests whether b is greater than c. If b is not greater than c then it implies c is greater than b which is covered by the catch all 'else' statement.\n",
    "\n",
    "Another, more numerical example, is provided below:"
   ]
  },
  {
   "cell_type": "code",
   "execution_count": 254,
   "metadata": {},
   "outputs": [
    {
     "name": "stdout",
     "output_type": "stream",
     "text": [
      "x is less than y\n"
     ]
    }
   ],
   "source": [
    "x = 180\n",
    "\n",
    "y = 190\n",
    "\n",
    "if x == y:\n",
    "    print(\"x is equal to y\")\n",
    "elif x > y:\n",
    "    print(\"x is greater than y\")\n",
    "else:\n",
    "    print(\"x is less than y\")"
   ]
  },
  {
   "cell_type": "markdown",
   "metadata": {},
   "source": [
    "## Repetition statements\n",
    "\n",
    "Repetition statements are used to repeat a block of instructions using either for loops or while loops. A for loop iterates over a sequence of elements contained in an object (usually a list, a tuple or a set) and executes a set of commands once for each element in the object."
   ]
  },
  {
   "cell_type": "markdown",
   "metadata": {},
   "source": [
    "### For Loops"
   ]
  },
  {
   "cell_type": "markdown",
   "metadata": {},
   "source": [
    "The example below demonstrates how to use a for loop to iterate over a list and access its elements:"
   ]
  },
  {
   "cell_type": "markdown",
   "metadata": {},
   "source": [
    "### Example\n",
    "\n",
    "Create a list of numbers and use a for loop to print the elements with their indices."
   ]
  },
  {
   "cell_type": "code",
   "execution_count": 255,
   "metadata": {},
   "outputs": [
    {
     "name": "stdout",
     "output_type": "stream",
     "text": [
      "Index:  0 Element:  10\n",
      "Index:  1 Element:  20\n",
      "Index:  2 Element:  30\n",
      "Index:  3 Element:  40\n",
      "Index:  4 Element:  50\n",
      "Index:  5 Element:  60\n",
      "Index:  6 Element:  70\n"
     ]
    }
   ],
   "source": [
    "list_of_numbers = [10,20,30,40,50,60,70]\n",
    "\n",
    "# Recall that the len() function will return the length of an object passed into it.\n",
    "for i in range(len(list_of_numbers)):\n",
    "    print('Index: ', i, 'Element: ',list_of_numbers[i])"
   ]
  },
  {
   "cell_type": "markdown",
   "metadata": {},
   "source": [
    "The example below illustrates how to iterate over a range of numbers:"
   ]
  },
  {
   "cell_type": "markdown",
   "metadata": {},
   "source": [
    "### Example\n",
    "\n",
    "Use a for loop to iterate over a range of numbers."
   ]
  },
  {
   "cell_type": "code",
   "execution_count": 256,
   "metadata": {},
   "outputs": [
    {
     "name": "stdout",
     "output_type": "stream",
     "text": [
      "0\n",
      "1\n",
      "2\n",
      "3\n",
      "4\n",
      "5\n",
      "6\n",
      "7\n",
      "8\n",
      "9\n"
     ]
    }
   ],
   "source": [
    "for j in range(0,10):\n",
    "    print(j)"
   ]
  },
  {
   "cell_type": "markdown",
   "metadata": {},
   "source": [
    "### Example"
   ]
  },
  {
   "cell_type": "markdown",
   "metadata": {},
   "source": [
    "Whether we use i or j or some entirely random term is arbitrary. All this term denotes is some generic indexing term."
   ]
  },
  {
   "cell_type": "code",
   "execution_count": 257,
   "metadata": {},
   "outputs": [
    {
     "name": "stdout",
     "output_type": "stream",
     "text": [
      "0\n",
      "1\n",
      "2\n",
      "3\n",
      "4\n"
     ]
    }
   ],
   "source": [
    "for number in range(0,5):\n",
    "    print(number)"
   ]
  },
  {
   "cell_type": "code",
   "execution_count": 258,
   "metadata": {},
   "outputs": [
    {
     "name": "stdout",
     "output_type": "stream",
     "text": [
      "20\n",
      "21\n",
      "22\n",
      "23\n",
      "24\n"
     ]
    }
   ],
   "source": [
    "for apples in range(20,25):\n",
    "    print(apples)"
   ]
  },
  {
   "cell_type": "markdown",
   "metadata": {},
   "source": [
    "The fact that the indexing is arbitrary allows us to write for loops that are intuitive like in the next example."
   ]
  },
  {
   "cell_type": "markdown",
   "metadata": {},
   "source": [
    "### Example\n",
    "\n",
    "Create a list of Greek letters and use a for loop to print each of them in sequence."
   ]
  },
  {
   "cell_type": "code",
   "execution_count": 259,
   "metadata": {},
   "outputs": [
    {
     "name": "stdout",
     "output_type": "stream",
     "text": [
      "alpha\n",
      "beta\n",
      "gamma\n",
      "delta\n",
      "epsilon\n",
      "eta\n",
      "theta\n",
      "iota\n",
      "kappa\n"
     ]
    }
   ],
   "source": [
    "alphabet = ['alpha', 'beta','gamma','delta','epsilon','eta','theta','iota','kappa']\n",
    "\n",
    "for word in alphabet:\n",
    "    print(word)"
   ]
  },
  {
   "cell_type": "markdown",
   "metadata": {},
   "source": [
    "### Example\n",
    "\n",
    "Create a list of Greek letters and use a for loop to print each of them in sequence along with a statement detailing the length of each string."
   ]
  },
  {
   "cell_type": "code",
   "execution_count": 260,
   "metadata": {},
   "outputs": [
    {
     "name": "stdout",
     "output_type": "stream",
     "text": [
      "There are  5  letters in  alpha\n",
      "There are  4  letters in  beta\n",
      "There are  5  letters in  gamma\n",
      "There are  5  letters in  delta\n",
      "There are  7  letters in  epsilon\n",
      "There are  3  letters in  eta\n",
      "There are  5  letters in  theta\n",
      "There are  4  letters in  iota\n",
      "There are  5  letters in  kappa\n"
     ]
    }
   ],
   "source": [
    "for word in alphabet:\n",
    "    print('There are ', len(word), ' letters in ', word)"
   ]
  },
  {
   "cell_type": "markdown",
   "metadata": {},
   "source": [
    "For loops can be very useful for calculations."
   ]
  },
  {
   "cell_type": "markdown",
   "metadata": {},
   "source": [
    "### Example\n",
    "\n",
    "Calculate the average of a list of test scores. "
   ]
  },
  {
   "cell_type": "code",
   "execution_count": 261,
   "metadata": {},
   "outputs": [
    {
     "name": "stdout",
     "output_type": "stream",
     "text": [
      "35.27272727272727\n"
     ]
    }
   ],
   "source": [
    "list_of_test_scores=[0,20,34,32,40,42,43,44,42,41,50]\n",
    "\n",
    "summation=0\n",
    "\n",
    "for score in range(0, len(list_of_test_scores)):\n",
    "    summation += list_of_test_scores[score]\n",
    "\n",
    "print(summation/len(list_of_test_scores))\n"
   ]
  },
  {
   "cell_type": "markdown",
   "metadata": {},
   "source": [
    "For loops can be very useful for calculations when combined with 'if elif else' statements. \n",
    "\n",
    "### Example\n",
    "\n",
    "Consider a particularly nasty maths problem that requires me to calculate the sum of the square roots of all even numbers between 0 and 100. Ordinarily this might take a while to calculate by hand or even using a calculator but with python the solution can be found in less than ten lines of code."
   ]
  },
  {
   "cell_type": "code",
   "execution_count": 262,
   "metadata": {},
   "outputs": [
    {
     "name": "stdout",
     "output_type": "stream",
     "text": [
      "328.04767110621\n"
     ]
    }
   ],
   "source": [
    "# We import the math library as it has a useful square root function math.sqrt()\n",
    "import math\n",
    "\n",
    "variable = 0\n",
    "\n",
    "for i in range(0,100):\n",
    "    if i%2 == 0:\n",
    "        variable += math.sqrt(i)\n",
    "\n",
    "print(variable)"
   ]
  },
  {
   "cell_type": "markdown",
   "metadata": {},
   "source": [
    "We can also make lists using for loops. This is a useful trick to remember in Python."
   ]
  },
  {
   "cell_type": "markdown",
   "metadata": {},
   "source": [
    "### Example\n",
    "\n",
    "Create a list using a for loop."
   ]
  },
  {
   "cell_type": "code",
   "execution_count": 263,
   "metadata": {},
   "outputs": [
    {
     "name": "stdout",
     "output_type": "stream",
     "text": [
      "[0, 10, 20, 30, 40, 50, 60, 70, 80, 90]\n"
     ]
    }
   ],
   "source": [
    "new_list = [10*i for i in range(0,10)]\n",
    "print(new_list)"
   ]
  },
  {
   "cell_type": "markdown",
   "metadata": {},
   "source": [
    "### Example\n",
    "\n",
    "Create a list of even numbers using a for loop."
   ]
  },
  {
   "cell_type": "code",
   "execution_count": 264,
   "metadata": {},
   "outputs": [
    {
     "name": "stdout",
     "output_type": "stream",
     "text": [
      "[0, 2, 4, 6, 8, 10, 12, 14, 16, 18]\n"
     ]
    }
   ],
   "source": [
    "even_list = [2*(i) for i in range(0,10)]\n",
    "print(even_list)"
   ]
  },
  {
   "cell_type": "markdown",
   "metadata": {},
   "source": [
    "### Example\n",
    "\n",
    "Create a list of odd numbers using a for loop."
   ]
  },
  {
   "cell_type": "code",
   "execution_count": 265,
   "metadata": {},
   "outputs": [
    {
     "name": "stdout",
     "output_type": "stream",
     "text": [
      "[1, 3, 5, 7, 9, 11, 13, 15, 17, 19]\n"
     ]
    }
   ],
   "source": [
    "odd_list = [2*(i)+1 for i in range(0,10)]\n",
    "print(odd_list)"
   ]
  },
  {
   "cell_type": "markdown",
   "metadata": {},
   "source": [
    "### Example\n",
    "\n",
    "Create a list of negative even numbers using a for loop."
   ]
  },
  {
   "cell_type": "code",
   "execution_count": 266,
   "metadata": {},
   "outputs": [
    {
     "name": "stdout",
     "output_type": "stream",
     "text": [
      "[0, -2, -4, -6, -8, -10, -12, -14, -16, -18]\n"
     ]
    }
   ],
   "source": [
    "negative_even_list = [(-1)*2*(i) for i in range(0,10)]\n",
    "print(negative_even_list)"
   ]
  },
  {
   "cell_type": "markdown",
   "metadata": {},
   "source": [
    "### Example\n",
    "\n",
    "Create a list of negative odd numbers using a for loop."
   ]
  },
  {
   "cell_type": "code",
   "execution_count": 267,
   "metadata": {},
   "outputs": [
    {
     "name": "stdout",
     "output_type": "stream",
     "text": [
      "[-1, -3, -5, -7, -9, -11, -13, -15, -17, -19]\n"
     ]
    }
   ],
   "source": [
    "negative_odd_list = [(-1)*2*(i)-1 for i in range(0,10)]\n",
    "print(negative_odd_list)"
   ]
  },
  {
   "cell_type": "markdown",
   "metadata": {},
   "source": [
    "### Example\n",
    "\n",
    "Create a list of multiples of four using a for loop."
   ]
  },
  {
   "cell_type": "code",
   "execution_count": 268,
   "metadata": {},
   "outputs": [
    {
     "name": "stdout",
     "output_type": "stream",
     "text": [
      "[0, 4, 8, 12, 16, 20, 24, 28, 32, 36]\n"
     ]
    }
   ],
   "source": [
    "multiples_of_four = [4*i for i in range(0,10)]\n",
    "print(multiples_of_four)"
   ]
  },
  {
   "cell_type": "markdown",
   "metadata": {},
   "source": [
    "### While loops\n",
    "\n",
    "while loops execute a block of code repeatedly until a given condition is satisfied. "
   ]
  },
  {
   "cell_type": "code",
   "execution_count": 269,
   "metadata": {},
   "outputs": [
    {
     "name": "stdout",
     "output_type": "stream",
     "text": [
      "0\n",
      "2\n",
      "4\n",
      "6\n",
      "8\n",
      "10\n",
      "12\n",
      "14\n",
      "16\n",
      "18\n"
     ]
    }
   ],
   "source": [
    "maximum = 10\n",
    "counter = 0\n",
    "\n",
    "while counter < maximum:\n",
    "    print( 2*counter )\n",
    "    counter += 1"
   ]
  },
  {
   "cell_type": "markdown",
   "metadata": {},
   "source": [
    "In the example above a 'ceiling' value is created called 'maximum'. This determines the upper limit for the while loop. A counter is also created that begins at zero. The code specifies that so long as the counter is less than the specified maximum value the program should print out 2 times the value of the counter (i.e., print even numbers!), it's important to tell the code to add one to the counter after this has been done otherwise the code will get stuck in an infinite loop. The counter will not update itself, we need to update it manually. We do this using counter+=1 which tells the programme to add one to the current value of the counter. This way, the counter will eventually reach the value of our ceiling. When that is true the while loop will stop because the while loop can only continue so long as the counter's value is less than our ceiling value. "
   ]
  },
  {
   "cell_type": "markdown",
   "metadata": {},
   "source": [
    "While loops can be used to create lists by starting with an empty list object and appending items to the list."
   ]
  },
  {
   "cell_type": "code",
   "execution_count": 270,
   "metadata": {},
   "outputs": [
    {
     "name": "stdout",
     "output_type": "stream",
     "text": [
      "[0, 1, 2, 3, 4, 5, 6, 7, 8, 9, 10]\n"
     ]
    }
   ],
   "source": [
    "i = 0\n",
    "# Create a blank list to append items to.\n",
    "my_list = []\n",
    "\n",
    "while i <= 10:    \n",
    "    my_list.append(i)\n",
    "    i += 1            \n",
    "\n",
    "print(my_list)"
   ]
  },
  {
   "cell_type": "markdown",
   "metadata": {},
   "source": [
    "### Exercise 1\n",
    "\n",
    "The Fibonacci sequence is a sequence in which each number is the sum of the two preceding ones, for instance: 0,1,1,2,3,5,8,13...etc. Write a while loop that prints each number in the Fibonacci sequence up to the 10th term in the sequence."
   ]
  },
  {
   "cell_type": "markdown",
   "metadata": {},
   "source": [
    "### Exercise 1 - Solution"
   ]
  },
  {
   "cell_type": "code",
   "execution_count": 271,
   "metadata": {},
   "outputs": [
    {
     "name": "stdout",
     "output_type": "stream",
     "text": [
      "0\n",
      "1\n",
      "1\n",
      "2\n",
      "3\n",
      "5\n",
      "8\n",
      "13\n",
      "21\n",
      "34\n"
     ]
    }
   ],
   "source": [
    "# Number of terms to print.\n",
    "number_of_terms = 10\n",
    "\n",
    "# An incremental counter.\n",
    "counter = 0\n",
    "\n",
    "# The first two terms.\n",
    "n1, n2 = 0, 1\n",
    "\n",
    "# While loop\n",
    "while counter < number_of_terms:\n",
    "    # Print the current term.\n",
    "    print(n1)\n",
    "    # Claculate the next term (the next term is always the sum of the preceeding two terms).\n",
    "    nth = n1 + n2\n",
    "    # Update terms.\n",
    "    n1 = n2\n",
    "    n2 = nth\n",
    "    # Increment the counter by one.\n",
    "    counter += 1"
   ]
  }
 ],
 "metadata": {
  "kernelspec": {
   "display_name": "Python 3",
   "language": "python",
   "name": "python3"
  },
  "language_info": {
   "codemirror_mode": {
    "name": "ipython",
    "version": 3
   },
   "file_extension": ".py",
   "mimetype": "text/x-python",
   "name": "python",
   "nbconvert_exporter": "python",
   "pygments_lexer": "ipython3",
   "version": "3.8.3"
  }
 },
 "nbformat": 4,
 "nbformat_minor": 4
}
